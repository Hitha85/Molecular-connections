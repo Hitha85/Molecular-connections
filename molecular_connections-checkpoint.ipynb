{
 "cells": [
  {
   "cell_type": "code",
   "execution_count": 143,
   "id": "e0b79757-197f-41ed-83be-5e1bc99a716b",
   "metadata": {},
   "outputs": [
    {
     "name": "stdout",
     "output_type": "stream",
     "text": [
      "Reports generated in output_reports\n"
     ]
    }
   ],
   "source": [
    "import os\n",
    "# Replace the path to your input file\n",
    "input_file = file_path =  'C:\\\\Users\\\\surya\\\\OneDrive\\\\Desktop\\\\anaconda\\\\Mesh.txt'\n",
    "output_folder = 'output_reports'\n",
    "\n",
    "def read_file(file_path):\n",
    "    with open(file_path, 'r') as file:\n",
    "        lines = file.readlines()\n",
    "    return [line.strip() for line in lines] \n",
    "    \n",
    "def organize_by_level(lines):\n",
    "    organized = {}\n",
    "    for line in lines:\n",
    "        if line:\n",
    "            identifier, description = line.split(' ', 1)\n",
    "            level = identifier.count('.')\n",
    "            if level not in organized:\n",
    "                organized[level] = []\n",
    "            organized[level].append(line)\n",
    "    return organized\n",
    "    \n",
    "def generate_reports(organized_lines, pairs_count, output_folder):\n",
    "    os.makedirs(output_folder, exist_ok=True)\n",
    "    file_index = 1\n",
    "    for level, entries in organized_lines.items():\n",
    "        if level + 1 == pairs_count:  \n",
    "            with open(f'{output_folder}/File-{pairs_count}-{file_index}.txt', 'w') as report_file:\n",
    "                for entry in entries:\n",
    "                    report_file.write(entry + '\\n')\n",
    "            file_index += 1\n",
    "            \n",
    "def main(input_file, output_folder):\n",
    "    lines = read_file(input_file)  \n",
    "    organized_lines = organize_by_level(lines)  \n",
    "    max_level = max(organized_lines.keys()) + 1  \n",
    "    for pairs_count in range(1, max_level + 1):\n",
    "        generate_reports(organized_lines, pairs_count, output_folder)\n",
    "    print(f'Reports generated in {output_folder}')\n",
    "    \n",
    "main(input_file,output_folder)"
   ]
  },
  {
   "cell_type": "code",
   "execution_count": 145,
   "id": "6736b373-0163-40ab-ac33-d1588ad1e3e0",
   "metadata": {},
   "outputs": [
    {
     "name": "stdin",
     "output_type": "stream",
     "text": [
      "Enter a string in the format 'XXX.NNN.NNN.NNN':  C04.754.527.987\n"
     ]
    },
    {
     "name": "stdout",
     "output_type": "stream",
     "text": [
      "Input: C04.754.527.987\n",
      "Output: C04.9.8.777.55.4.2\n"
     ]
    }
   ],
   "source": [
    "def transform_string(input_str):\n",
    "    prefix, numbers_str = input_str.split('.', 1)\n",
    "    numbers = numbers_str.split('.')\n",
    "    grouped_digits = ''.join(numbers)\n",
    "    sorted_digits = sorted(grouped_digits, reverse=True)\n",
    "    grouped_result = []\n",
    "    for digit in sorted_digits:\n",
    "        if grouped_result and grouped_result[-1][0] == digit:\n",
    "            grouped_result[-1] += digit\n",
    "        else:\n",
    "            grouped_result.append(digit)\n",
    "    result_str = '.'.join(grouped_result)\n",
    "    return f'{prefix}.{result_str}'\n",
    "    \n",
    "def main():\n",
    "    input_str = input(\"Enter a string in the format 'XXX.NNN.NNN.NNN': \")\n",
    "    output_str = transform_string(input_str)\n",
    "    print(f'Input: {input_str}')\n",
    "    print(f'Output: {output_str}')\n",
    "if __name__ == \"__main__\":\n",
    "    main()"
   ]
  },
  {
   "cell_type": "code",
   "execution_count": null,
   "id": "8b9ac992-33dc-4b8d-b3f6-61904949dbec",
   "metadata": {},
   "outputs": [],
   "source": []
  }
 ],
 "metadata": {
  "kernelspec": {
   "display_name": "Python 3 (ipykernel)",
   "language": "python",
   "name": "python3"
  },
  "language_info": {
   "codemirror_mode": {
    "name": "ipython",
    "version": 3
   },
   "file_extension": ".py",
   "mimetype": "text/x-python",
   "name": "python",
   "nbconvert_exporter": "python",
   "pygments_lexer": "ipython3",
   "version": "3.12.4"
  }
 },
 "nbformat": 4,
 "nbformat_minor": 5
}
